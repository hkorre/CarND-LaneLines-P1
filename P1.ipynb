{
 "cells": [
  {
   "cell_type": "markdown",
   "metadata": {},
   "source": [
    "# **Finding Lane Lines on the Road** \n",
    "***\n",
    "In this project, you will use the tools you learned about in the lesson to identify lane lines on the road.  You can develop your pipeline on a series of individual images, and later apply the result to a video stream (really just a series of images). Check out the video clip \"raw-lines-example.mp4\" (also contained in this repository) to see what the output should look like after using the helper functions below. \n",
    "\n",
    "Once you have a result that looks roughly like \"raw-lines-example.mp4\", you'll need to get creative and try to average and/or extrapolate the line segments you've detected to map out the full extent of the lane lines.  You can see an example of the result you're going for in the video \"P1_example.mp4\".  Ultimately, you would like to draw just one line for the left side of the lane, and one for the right.\n",
    "\n",
    "---\n",
    "Let's have a look at our first image called 'test_images/solidWhiteRight.jpg'.  Run the 2 cells below (hit Shift-Enter or the \"play\" button above) to display the image.\n",
    "\n",
    "**Note** If, at any point, you encounter frozen display windows or other confounding issues, you can always start again with a clean slate by going to the \"Kernel\" menu above and selecting \"Restart & Clear Output\".\n",
    "\n",
    "---"
   ]
  },
  {
   "cell_type": "markdown",
   "metadata": {},
   "source": [
    "**The tools you have are color selection, region of interest selection, grayscaling, Gaussian smoothing, Canny Edge Detection and Hough Tranform line detection.  You  are also free to explore and try other techniques that were not presented in the lesson.  Your goal is piece together a pipeline to detect the line segments in the image, then average/extrapolate them and draw them onto the image for display (as below).  Once you have a working pipeline, try it out on the video stream below.**\n",
    "\n",
    "---\n",
    "\n",
    "<figure>\n",
    " <img src=\"line-segments-example.jpg\" width=\"380\" alt=\"Combined Image\" />\n",
    " <figcaption>\n",
    " <p></p> \n",
    " <p style=\"text-align: center;\"> Your output should look something like this (above) after detecting line segments using the helper functions below </p> \n",
    " </figcaption>\n",
    "</figure>\n",
    " <p></p> \n",
    "<figure>\n",
    " <img src=\"laneLines_thirdPass.jpg\" width=\"380\" alt=\"Combined Image\" />\n",
    " <figcaption>\n",
    " <p></p> \n",
    " <p style=\"text-align: center;\"> Your goal is to connect/average/extrapolate line segments to get output like this</p> \n",
    " </figcaption>\n",
    "</figure>"
   ]
  },
  {
   "cell_type": "code",
   "execution_count": null,
   "metadata": {
    "collapsed": false
   },
   "outputs": [],
   "source": [
    "#importing some useful packages\n",
    "import matplotlib.pyplot as plt\n",
    "import matplotlib.image as mpimg\n",
    "import numpy as np\n",
    "import cv2\n",
    "%matplotlib inline"
   ]
  },
  {
   "cell_type": "code",
   "execution_count": null,
   "metadata": {
    "collapsed": false
   },
   "outputs": [],
   "source": [
    "#reading in an image\n",
    "image = mpimg.imread('test_images/solidWhiteRight.jpg')\n",
    "#printing out some stats and plotting\n",
    "print('This image is:', type(image), 'with dimesions:', image.shape)\n",
    "plt.imshow(image)  #call as plt.imshow(gray, cmap='gray') to show a grayscaled image"
   ]
  },
  {
   "cell_type": "markdown",
   "metadata": {},
   "source": [
    "**Some OpenCV functions (beyond those introduced in the lesson) that might be useful for this project are:**\n",
    "\n",
    "`cv2.inRange()` for color selection  \n",
    "`cv2.fillPoly()` for regions selection  \n",
    "`cv2.line()` to draw lines on an image given endpoints  \n",
    "`cv2.addWeighted()` to coadd / overlay two images\n",
    "`cv2.cvtColor()` to grayscale or change color\n",
    "`cv2.imwrite()` to output images to file  \n",
    "`cv2.bitwise_and()` to apply a mask to an image\n",
    "\n",
    "**Check out the OpenCV documentation to learn about these and discover even more awesome functionality!**"
   ]
  },
  {
   "cell_type": "markdown",
   "metadata": {},
   "source": [
    "Below are some helper functions to help get you started. They should look familiar from the lesson!"
   ]
  },
  {
   "cell_type": "code",
   "execution_count": null,
   "metadata": {
    "collapsed": true
   },
   "outputs": [],
   "source": [
    "import math\n",
    "\n",
    "def grayscale(img):\n",
    "    \"\"\"Applies the Grayscale transform\n",
    "    This will return an image with only one color channel\n",
    "    but NOTE: to see the returned image as grayscale\n",
    "    you should call plt.imshow(gray, cmap='gray')\"\"\"\n",
    "    return cv2.cvtColor(img, cv2.COLOR_BGR2GRAY)\n",
    "    \n",
    "def canny(img, low_threshold, high_threshold):\n",
    "    \"\"\"Applies the Canny transform\"\"\"\n",
    "    return cv2.Canny(img, low_threshold, high_threshold)\n",
    "\n",
    "def gaussian_blur(img, kernel_size):\n",
    "    \"\"\"Applies a Gaussian Noise kernel\"\"\"\n",
    "    return cv2.GaussianBlur(img, (kernel_size, kernel_size), 0)\n",
    "\n",
    "def region_of_interest(img, vertices):\n",
    "    \"\"\"\n",
    "    Applies an image mask.\n",
    "    \n",
    "    Only keeps the region of the image defined by the polygon\n",
    "    formed from `vertices`. The rest of the image is set to black.\n",
    "    \"\"\"\n",
    "    #defining a blank mask to start with\n",
    "    mask = np.zeros_like(img)   \n",
    "    \n",
    "    #defining a 3 channel or 1 channel color to fill the mask with depending on the input image\n",
    "    if len(img.shape) > 2:\n",
    "        channel_count = img.shape[2]  # i.e. 3 or 4 depending on your image\n",
    "        ignore_mask_color = (255,) * channel_count\n",
    "    else:\n",
    "        ignore_mask_color = 255\n",
    "        \n",
    "    #filling pixels inside the polygon defined by \"vertices\" with the fill color    \n",
    "    cv2.fillPoly(mask, vertices, ignore_mask_color)\n",
    "    \n",
    "    #returning the image only where mask pixels are nonzero\n",
    "    masked_image = cv2.bitwise_and(img, mask)\n",
    "    return masked_image\n",
    "\n",
    "\n",
    "def draw_lines(img, lines, color=[255, 0, 0], thickness=2):\n",
    "    \"\"\"\n",
    "    NOTE: this is the function you might want to use as a starting point once you want to \n",
    "    average/extrapolate the line segments you detect to map out the full\n",
    "    extent of the lane (going from the result shown in raw-lines-example.mp4\n",
    "    to that shown in P1_example.mp4).  \n",
    "    \n",
    "    Think about things like separating line segments by their \n",
    "    slope ((y2-y1)/(x2-x1)) to decide which segments are part of the left\n",
    "    line vs. the right line.  Then, you can average the position of each of \n",
    "    the lines and extrapolate to the top and bottom of the lane.\n",
    "    \n",
    "    This function draws `lines` with `color` and `thickness`.    \n",
    "    Lines are drawn on the image inplace (mutates the image).\n",
    "    If you want to make the lines semi-transparent, think about combining\n",
    "    this function with the weighted_img() function below\n",
    "    \"\"\"\n",
    "    for line in lines:\n",
    "        for x1,y1,x2,y2 in line:\n",
    "            cv2.line(img, (x1, y1), (x2, y2), color, thickness)\n",
    "\n",
    "def hough_lines(img, rho, theta, threshold, min_line_len, max_line_gap):\n",
    "    \"\"\"\n",
    "    `img` should be the output of a Canny transform.\n",
    "        \n",
    "    Returns an image with hough lines drawn.\n",
    "    \"\"\"\n",
    "    lines = cv2.HoughLinesP(img, rho, theta, threshold, np.array([]), minLineLength=min_line_len, maxLineGap=max_line_gap)\n",
    "    line_img = np.zeros((*img.shape, 3), dtype=np.uint8)\n",
    "    draw_lines(line_img, lines)\n",
    "    return line_img\n",
    "\n",
    "# Python 3 has support for cool math symbols.\n",
    "\n",
    "def weighted_img(img, initial_img, α=0.8, β=1., λ=0.):\n",
    "    \"\"\"\n",
    "    `img` is the output of the hough_lines(), An image with lines drawn on it.\n",
    "    Should be a blank image (all black) with lines drawn on it.\n",
    "    \n",
    "    `initial_img` should be the image before any processing.\n",
    "    \n",
    "    The result image is computed as follows:\n",
    "    \n",
    "    initial_img * α + img * β + λ\n",
    "    NOTE: initial_img and img must be the same shape!\n",
    "    \"\"\"\n",
    "    return cv2.addWeighted(initial_img, α, img, β, λ)"
   ]
  },
  {
   "cell_type": "markdown",
   "metadata": {},
   "source": [
    "## Test on Images\n",
    "\n",
    "Now you should build your pipeline to work on the images in the directory \"test_images\"  \n",
    "**You should make sure your pipeline works well on these images before you try the videos.**"
   ]
  },
  {
   "cell_type": "code",
   "execution_count": null,
   "metadata": {
    "collapsed": false
   },
   "outputs": [],
   "source": [
    "import os\n",
    "os.listdir(\"test_images/\")"
   ]
  },
  {
   "cell_type": "markdown",
   "metadata": {},
   "source": [
    "run your solution on all test_images and make copies into the test_images directory)."
   ]
  },
  {
   "cell_type": "code",
   "execution_count": null,
   "metadata": {
    "collapsed": false,
    "scrolled": true
   },
   "outputs": [],
   "source": [
    "'''\n",
    "picking a test file\n",
    "'''\n",
    "whiteCarLane       = 'test_images/whiteCarLaneSwitch.jpg'    #passed\n",
    "solidYellowLeft    = 'test_images/solidYellowLeft.jpg'       #passed\n",
    "solidYellowCurve2  = 'test_images/solidYellowCurve2.jpg'     #passed\n",
    "solidYellowCurve   = 'test_images/solidYellowCurve.jpg'      #passed\n",
    "solidWhiteRight    = 'test_images/solidWhiteRight.jpg'       #passed\n",
    "solidWhiteCurve    = 'test_images/solidWhiteCurve.jpg'       #passed\n",
    "\n",
    "\n",
    "filename = solidWhiteCurve\n",
    "testImage = mpimg.imread(filename)\n",
    "print('This image is: ',type(testImage), \n",
    "         'with dimensions:', testImage.shape)\n",
    "plt.imshow(testImage)"
   ]
  },
  {
   "cell_type": "code",
   "execution_count": null,
   "metadata": {
    "collapsed": false
   },
   "outputs": [],
   "source": [
    "\"\"\"\n",
    "Color Selection:\n",
    "Goal: Keep only yellow and white in the image (lane colors)\n",
    "\"\"\"\n",
    "\n",
    "def hk_color_select(img):\n",
    "    # Grab the x and y size and make a copy of the image\n",
    "    ysize = img.shape[0]\n",
    "    xsize = img.shape[1]\n",
    "    color_select = np.copy(img)\n",
    "    \n",
    "    # Define our color selection criteria\n",
    "    red_threshold = 180\n",
    "    green_threshold = 150\n",
    "    blue_threshold = 0\n",
    "    # max values of rgb allowed\n",
    "    rgb_threshold = [red_threshold, green_threshold, blue_threshold]\n",
    "    \n",
    "    # Use a \"bitwise OR\" to identify pixels below the threshold\n",
    "    thresholds = (img[:,:,0] < rgb_threshold[0]) \\\n",
    "                  | (img[:,:,1] < rgb_threshold[1]) \\\n",
    "                  | (img[:,:,2] < rgb_threshold[2])\n",
    "    color_select[thresholds] = [0,0,0]\n",
    "    \n",
    "    return color_select\n",
    " \n",
    "\n",
    "'''\n",
    "run it...\n",
    "'''    \n",
    "testImage_cs = hk_color_select(testImage)\n",
    "\n",
    "\n",
    "# Display the image                 \n",
    "plt.imshow(testImage_cs)\n",
    "    "
   ]
  },
  {
   "cell_type": "code",
   "execution_count": null,
   "metadata": {
    "collapsed": false
   },
   "outputs": [],
   "source": [
    "\"\"\"\n",
    "Region of Interest:\n",
    "Goal: Only keep marker that are in the center\n",
    "\"\"\"\n",
    "\n",
    "def hk_region_ofInterest(img):    \n",
    "    # [horiz, vert]\n",
    "    top_left = [425,300]\n",
    "    top_right = [520,300]\n",
    "    bottom_right = [900,540]\n",
    "    bottom_left = [100,540]\n",
    "    \n",
    "    poly = np.array([top_left, top_right, bottom_right, bottom_left], np.int32)\n",
    "    return region_of_interest(img, [poly])\n",
    "\n",
    "'''\n",
    "run it...\n",
    "'''    \n",
    "testImage_roi = hk_region_ofInterest(testImage_cs)\n",
    "\n",
    "\n",
    "# Display the image                 \n",
    "plt.imshow(testImage_roi)\n"
   ]
  },
  {
   "cell_type": "code",
   "execution_count": null,
   "metadata": {
    "collapsed": false,
    "scrolled": false
   },
   "outputs": [],
   "source": [
    "\"\"\"\n",
    "Grayscalling, Gaussian Smoothing & Canny Edge Detection:\n",
    "Goal: Setup for Hough Transform\n",
    "\"\"\"\n",
    "\n",
    "def hk_canny_edgeDetect(img):\n",
    "    #grayscale conversion\n",
    "    gray = cv2.cvtColor(testImage_roi, cv2.COLOR_BGR2GRAY)\n",
    "    \n",
    "    # Define a kernel size for Gaussian smoothing / blurring\n",
    "    kernel_size = 3\n",
    "    blur_gray = gaussian_blur(gray, kernel_size)\n",
    "\n",
    "    # Define parameters for Canny and run it\n",
    "    low_threshold = 50\n",
    "    high_threshold = 150\n",
    "    edges = canny(blur_gray, low_threshold, high_threshold)\n",
    "        \n",
    "    return edges\n",
    "\n",
    "    \n",
    "'''\n",
    "run it...\n",
    "'''    \n",
    "testImage_ced = hk_canny_edgeDetect(testImage_roi)\n",
    "\n",
    "# Display the image                 \n",
    "plt.imshow(testImage_ced, cmap='gray')  \n"
   ]
  },
  {
   "cell_type": "code",
   "execution_count": null,
   "metadata": {
    "collapsed": false
   },
   "outputs": [],
   "source": [
    "\"\"\"\n",
    "Drawing lines:\n",
    "Goal: Find the lanes\n",
    "\"\"\"\n",
    "\n",
    "def hk_find_2lineGroups(lines):\n",
    "    lines_pos = np.zeros((0,1,4+2), dtype=lines.dtype)\n",
    "    lines_neg = np.zeros((0,1,4+2), dtype=lines.dtype)\n",
    "    \n",
    "    for line in lines:\n",
    "        \n",
    "        for x1,y1,x2,y2 in line:\n",
    "            \n",
    "            slope = (y2-y1)/(x2-x1)          \n",
    "            y_int = y1 - slope*x1\n",
    "            \n",
    "            if slope>0.5 and slope<0.8:\n",
    "               lines_pos = np.append(lines_pos, [[[x1, y1, x2, y2, slope, y_int]]], axis=0) \n",
    "            \n",
    "            if slope>-0.8 and slope<-0.5:\n",
    "               lines_neg = np.append(lines_neg, [[[x1, y1, x2, y2, slope, y_int]]], axis=0)\n",
    "                           \n",
    "    return lines_pos, lines_neg\n",
    " \n",
    "\n",
    "def hk_find_avgSlopeInt(lines_withSlopeInt):\n",
    "    m_sum = 0\n",
    "    b_sum = 0\n",
    "    num_elements = lines_withSlopeInt.shape[0]\n",
    "    \n",
    "    for line in lines_withSlopeInt:\n",
    "        for x1,y1,x2,y2,m,b in line:\n",
    "            m_sum += m\n",
    "            b_sum += b\n",
    "     \n",
    "    \n",
    "    m_avg = m_sum/num_elements\n",
    "    b_avg = b_sum/num_elements\n",
    "    \n",
    "    return m_avg, b_avg\n",
    "\n",
    "\n",
    "def hk_create_line(img_height, m_avg, b_avg):\n",
    "    # point on bottom of image\n",
    "    y1 = img_height - 1\n",
    "    x1 = int( (y1-b_avg)/m_avg )\n",
    "    \n",
    "    # point halfway up image\n",
    "    #y2 = int( img_height/2 )\n",
    "    \n",
    "    height_mult = 0.60\n",
    "    \n",
    "    y2 = int( img_height*height_mult )\n",
    "    x2 = int( (y2-b_avg)/m_avg )\n",
    "    \n",
    "    # make line\n",
    "    return np.array([[x1, y1, x2, y2]])\n",
    "\n",
    "    \n",
    "\n",
    "def hk_draw_lines(img, lines, color=[255, 0, 0], thickness=2):    \n",
    "    pos, neg = hk_find_2lineGroups(lines)\n",
    "    \n",
    "    m_avg, b_avg = hk_find_avgSlopeInt(pos)\n",
    "    p_line = hk_create_line(img.shape[0], m_avg, b_avg)\n",
    "    \n",
    "    m_avg, b_avg = hk_find_avgSlopeInt(neg)\n",
    "    n_line = hk_create_line(img.shape[0], m_avg, b_avg)\n",
    "    \n",
    "    new_lines = np.array([p_line, n_line])\n",
    "    \n",
    "          \n",
    "    draw_lines(img, new_lines, [255, 0, 0], 6)        \n",
    "            \n",
    "    "
   ]
  },
  {
   "cell_type": "code",
   "execution_count": null,
   "metadata": {
    "collapsed": false,
    "scrolled": true
   },
   "outputs": [],
   "source": [
    "\"\"\"\n",
    "Hough Transform line detection:\n",
    "Goal: Find the lanes\n",
    "\"\"\"\n",
    "\n",
    "def hk_hough_transform(img):\n",
    "    ### Define the Hough transform parameters ###\n",
    "\n",
    "    # distance resolution in pixels of Hough grid\n",
    "    rho = 2\n",
    "    \n",
    "    # angular resolution in rad of Hough grid\n",
    "    theta = np.pi/180\n",
    "    \n",
    "    # min num votes (intersections in Hough grid cell)\n",
    "    threshold = 15\n",
    "    \n",
    "    # min number of pixels making up a line\n",
    "    min_line_length = 60\n",
    "    \n",
    "    # max gap in pixels between connectable line segments\n",
    "    max_line_gap = 20          \n",
    "    \n",
    "    # Make blank the same size as our image to draw lines on\n",
    "    line_image = np.copy(img)*0\n",
    "\n",
    "    # Run Hough on edge detected image\n",
    "    # Output \"lines\" is an array containing endpoints of detected line segments\n",
    "    lines = cv2.HoughLinesP(img, rho, theta, threshold, np.array([]),\n",
    "                            min_line_length, max_line_gap)\n",
    "\n",
    "    # Iterate over the output \"lines\" and draw lines on a blank image\n",
    "    #draw_lines(line_image, lines, color=[255, 0, 0], thickness=2)\n",
    "    hk_draw_lines(line_image, lines, color=[255, 0, 0], thickness=2)\n",
    "    \n",
    "    return line_image\n",
    "    \n",
    "\n",
    "def hk_create_weightedImg(img, edges):\n",
    "    # create dark image\n",
    "    rows= edges.shape[0]\n",
    "    cols   = edges.shape[1]\n",
    "    dType  = edges.dtype\n",
    "    zero_grayscale = np.zeros(rows*cols, dtype=dType).reshape(rows, cols)\n",
    "\n",
    "    # Create a \"color\" binary image to combine with line image - purple\n",
    "    color_edges = np.dstack((edges, zero_grayscale, edges))\n",
    "\n",
    "    # Draw the lines on the image\n",
    "    return weighted_img(color_edges, img)\n",
    "\n",
    "'''\n",
    "run it...\n",
    "'''\n",
    "testImage_cEdges = hk_hough_transform(testImage_ced)\n",
    "combo = hk_create_weightedImg(testImage, testImage_cEdges)\n",
    "\n",
    "# Display the image\n",
    "plt.imshow(combo)\n",
    "    "
   ]
  },
  {
   "cell_type": "markdown",
   "metadata": {},
   "source": [
    "## Test on Videos\n",
    "\n",
    "You know what's cooler than drawing lanes over images? Drawing lanes over video!\n",
    "\n",
    "We can test our solution on two provided videos:\n",
    "\n",
    "`solidWhiteRight.mp4`\n",
    "\n",
    "`solidYellowLeft.mp4`"
   ]
  },
  {
   "cell_type": "code",
   "execution_count": null,
   "metadata": {
    "collapsed": false
   },
   "outputs": [],
   "source": [
    "# Import everything needed to edit/save/watch video clips\n",
    "from moviepy.editor import VideoFileClip\n",
    "from IPython.display import HTML"
   ]
  },
  {
   "cell_type": "code",
   "execution_count": null,
   "metadata": {
    "collapsed": true
   },
   "outputs": [],
   "source": [
    "def process_image(image):\n",
    "    # NOTE: The output you return should be a color image (3 channel) for processing video below\n",
    "    # TODO: put your pipeline here,\n",
    "    # you should return the final output (image with lines are drawn on lanes)\n",
    "    \n",
    "    frame_cs     = hk_color_select(image)\n",
    "    frame_roi    = hk_region_ofInterest(frame_cs)\n",
    "    frame_ced    = hk_canny_edgeDetect(frame_roi)\n",
    "    frame_cEdges = hk_hough_transform(frame_ced)\n",
    "    \n",
    "    result       = hk_create_weightedImg(image, frame_cEdges)\n",
    "    return result"
   ]
  },
  {
   "cell_type": "markdown",
   "metadata": {},
   "source": [
    "Let's try the one with the solid white lane on the right first ..."
   ]
  },
  {
   "cell_type": "code",
   "execution_count": null,
   "metadata": {
    "collapsed": false
   },
   "outputs": [],
   "source": [
    "white_output = 'white.mp4'\n",
    "clip1 = VideoFileClip(\"solidWhiteRight.mp4\")\n",
    "white_clip = clip1.fl_image(process_image) #NOTE: this function expects color images!!\n",
    "%time white_clip.write_videofile(white_output, audio=False)"
   ]
  },
  {
   "cell_type": "markdown",
   "metadata": {},
   "source": [
    "Play the video inline, or if you prefer find the video in your filesystem (should be in the same directory) and play it in your video player of choice."
   ]
  },
  {
   "cell_type": "code",
   "execution_count": null,
   "metadata": {
    "collapsed": false
   },
   "outputs": [],
   "source": [
    "HTML(\"\"\"\n",
    "<video width=\"960\" height=\"540\" controls>\n",
    "  <source src=\"{0}\">\n",
    "</video>\n",
    "\"\"\".format(white_output))"
   ]
  },
  {
   "cell_type": "markdown",
   "metadata": {},
   "source": [
    "**At this point, if you were successful you probably have the Hough line segments drawn onto the road, but what about identifying the full extent of the lane and marking it clearly as in the example video (P1_example.mp4)?  Think about defining a line to run the full length of the visible lane based on the line segments you identified with the Hough Transform.  Modify your draw_lines function accordingly and try re-running your pipeline.**"
   ]
  },
  {
   "cell_type": "markdown",
   "metadata": {},
   "source": [
    "Now for the one with the solid yellow lane on the left. This one's more tricky!"
   ]
  },
  {
   "cell_type": "code",
   "execution_count": null,
   "metadata": {
    "collapsed": false
   },
   "outputs": [],
   "source": [
    "yellow_output = 'yellow.mp4'\n",
    "clip2 = VideoFileClip('solidYellowLeft.mp4')\n",
    "yellow_clip = clip2.fl_image(process_image)\n",
    "%time yellow_clip.write_videofile(yellow_output, audio=False)"
   ]
  },
  {
   "cell_type": "code",
   "execution_count": null,
   "metadata": {
    "collapsed": false,
    "scrolled": true
   },
   "outputs": [],
   "source": [
    "HTML(\"\"\"\n",
    "<video width=\"960\" height=\"540\" controls>\n",
    "  <source src=\"{0}\">\n",
    "</video>\n",
    "\"\"\".format(yellow_output))"
   ]
  },
  {
   "cell_type": "markdown",
   "metadata": {},
   "source": [
    "## Reflections\n",
    "\n",
    "Congratulations on finding the lane lines!  As the final step in this project, we would like you to share your thoughts on your lane finding pipeline... specifically, how could you imagine making your algorithm better / more robust?  Where will your current algorithm be likely to fail?\n",
    "\n",
    "Please add your thoughts below,  and if you're up for making your pipeline more robust, be sure to scroll down and check out the optional challenge video below!\n"
   ]
  },
  {
   "cell_type": "markdown",
   "metadata": {},
   "source": [
    "Answer: How could you imagine making your algorithm better / more robust?\n",
    "-----------------------------------------------------------------\n",
    "\n",
    "One of the situations where I could make things more robust is in the combining the lines into 2 lines (left and right). I currently just average the slope and y-intercept. I could spend more effect to find the distribution and weight the numbers or elemenate the outliers (i.e. 'lines' largest and smallest slopes).\n",
    "\n",
    "Also, below I list some places the algorithm may fail. These mostly involve parameters. I could try to make these variables adaptive, where I used CV to find features and calculate the parameters.\n",
    "\n",
    "\n",
    "AWhere will your current algorithm be likely to fail?\n",
    "-----------------------------------------------------\n",
    "\n",
    "1. It will have problems if the lane dashes have a lot of space between them. That can be adjusted in \n",
    "   hk_hough_transform(img) with max_line_gap.\n",
    "2. It will have problems if the lanes are very wide. That can be adjusted in hk_region_ofInterest() with bottom_right   \n",
    "   and bottom_left.\n",
    "3. I'll have problems in foreign countries if the the lane lines/dashes are not white or yellow. That can be asjusted  \n",
    "   in hk_color_select() with red_threshold, green_threshold, and blue_threshold.\n",
    "\n"
   ]
  },
  {
   "cell_type": "markdown",
   "metadata": {},
   "source": [
    "## Submission\n",
    "\n",
    "If you're satisfied with your video outputs it's time to submit!\n"
   ]
  },
  {
   "cell_type": "markdown",
   "metadata": {
    "collapsed": true
   },
   "source": [
    "## Optional Challenge\n",
    "\n",
    "Try your lane finding pipeline on the video below.  Does it still work?  Can you figure out a way to make it more robust?  If you're up for the challenge, modify your pipeline so it works with this video and submit it along with the rest of your project!"
   ]
  },
  {
   "cell_type": "code",
   "execution_count": null,
   "metadata": {
    "collapsed": false
   },
   "outputs": [],
   "source": [
    "challenge_output = 'extra.mp4'\n",
    "clip2 = VideoFileClip('challenge.mp4')\n",
    "challenge_clip = clip2.fl_image(process_image)\n",
    "%time challenge_clip.write_videofile(challenge_output, audio=False)"
   ]
  },
  {
   "cell_type": "code",
   "execution_count": null,
   "metadata": {
    "collapsed": true
   },
   "outputs": [],
   "source": [
    "HTML(\"\"\"\n",
    "<video width=\"960\" height=\"540\" controls>\n",
    "  <source src=\"{0}\">\n",
    "</video>\n",
    "\"\"\".format(challenge_output))"
   ]
  }
 ],
 "metadata": {
  "anaconda-cloud": {},
  "kernelspec": {
   "display_name": "Python [conda root]",
   "language": "python",
   "name": "conda-root-py"
  },
  "language_info": {
   "codemirror_mode": {
    "name": "ipython",
    "version": 3
   },
   "file_extension": ".py",
   "mimetype": "text/x-python",
   "name": "python",
   "nbconvert_exporter": "python",
   "pygments_lexer": "ipython3",
   "version": "3.5.2"
  }
 },
 "nbformat": 4,
 "nbformat_minor": 0
}
